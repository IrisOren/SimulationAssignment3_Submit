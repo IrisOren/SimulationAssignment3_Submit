{
 "cells": [
  {
   "cell_type": "markdown",
   "metadata": {},
   "source": [
    "This notebook processes the output data from Assignment3_Q2.doe"
   ]
  },
  {
   "cell_type": "code",
   "execution_count": 1,
   "metadata": {},
   "outputs": [],
   "source": [
    "#Import libraries\n",
    "\n",
    "import numpy as np\n",
    "import matplotlib.pyplot as plt\n",
    "%matplotlib inline\n",
    "from scipy import stats\n",
    "import pandas as pd\n",
    "from scipy.stats import lognorm\n",
    "from scipy.stats import norm"
   ]
  },
  {
   "cell_type": "markdown",
   "metadata": {},
   "source": [
    "----------------------"
   ]
  },
  {
   "cell_type": "code",
   "execution_count": 2,
   "metadata": {},
   "outputs": [
    {
     "data": {
      "text/plain": [
       "(200, 5)"
      ]
     },
     "metadata": {},
     "output_type": "display_data"
    },
    {
     "data": {
      "text/html": [
       "<div>\n",
       "<style scoped>\n",
       "    .dataframe tbody tr th:only-of-type {\n",
       "        vertical-align: middle;\n",
       "    }\n",
       "\n",
       "    .dataframe tbody tr th {\n",
       "        vertical-align: top;\n",
       "    }\n",
       "\n",
       "    .dataframe thead th {\n",
       "        text-align: right;\n",
       "    }\n",
       "</style>\n",
       "<table border=\"1\" class=\"dataframe\">\n",
       "  <thead>\n",
       "    <tr style=\"text-align: right;\">\n",
       "      <th></th>\n",
       "      <th>A</th>\n",
       "      <th>C</th>\n",
       "      <th>G</th>\n",
       "      <th>J</th>\n",
       "      <th>CompletionTimes</th>\n",
       "    </tr>\n",
       "  </thead>\n",
       "  <tbody>\n",
       "    <tr>\n",
       "      <th>0</th>\n",
       "      <td>1.764977</td>\n",
       "      <td>4.390893</td>\n",
       "      <td>4.376375</td>\n",
       "      <td>1.341751</td>\n",
       "      <td>11.873996</td>\n",
       "    </tr>\n",
       "    <tr>\n",
       "      <th>1</th>\n",
       "      <td>1.451379</td>\n",
       "      <td>6.223080</td>\n",
       "      <td>6.021862</td>\n",
       "      <td>1.924595</td>\n",
       "      <td>15.620915</td>\n",
       "    </tr>\n",
       "    <tr>\n",
       "      <th>2</th>\n",
       "      <td>1.506632</td>\n",
       "      <td>1.361793</td>\n",
       "      <td>4.905874</td>\n",
       "      <td>2.009787</td>\n",
       "      <td>9.784085</td>\n",
       "    </tr>\n",
       "    <tr>\n",
       "      <th>3</th>\n",
       "      <td>1.883346</td>\n",
       "      <td>8.586010</td>\n",
       "      <td>6.616497</td>\n",
       "      <td>2.440421</td>\n",
       "      <td>19.526273</td>\n",
       "    </tr>\n",
       "    <tr>\n",
       "      <th>4</th>\n",
       "      <td>2.414775</td>\n",
       "      <td>7.485873</td>\n",
       "      <td>5.427642</td>\n",
       "      <td>2.239814</td>\n",
       "      <td>17.568104</td>\n",
       "    </tr>\n",
       "  </tbody>\n",
       "</table>\n",
       "</div>"
      ],
      "text/plain": [
       "          A         C         G         J  CompletionTimes\n",
       "0  1.764977  4.390893  4.376375  1.341751        11.873996\n",
       "1  1.451379  6.223080  6.021862  1.924595        15.620915\n",
       "2  1.506632  1.361793  4.905874  2.009787         9.784085\n",
       "3  1.883346  8.586010  6.616497  2.440421        19.526273\n",
       "4  2.414775  7.485873  5.427642  2.239814        17.568104"
      ]
     },
     "metadata": {},
     "output_type": "display_data"
    }
   ],
   "source": [
    "#Import data\n",
    "\n",
    "dataAll=pd.read_csv('Q2/CompletionTimes.txt', sep=' ', header=None)\n",
    "dataAll=dataAll.iloc[:, 0:5]\n",
    "dataAll.columns=['A', 'C', 'G', 'J', 'CompletionTimes']\n",
    "display(dataAll.shape)\n",
    "display(dataAll.head(5))"
   ]
  },
  {
   "cell_type": "code",
   "execution_count": 3,
   "metadata": {},
   "outputs": [],
   "source": [
    "#Select first 50 replications for computing optimal lambda\n",
    "data=dataAll.iloc[0:50]"
   ]
  },
  {
   "cell_type": "code",
   "execution_count": 18,
   "metadata": {},
   "outputs": [
    {
     "data": {
      "text/plain": [
       "'Correlation coefficients'"
      ]
     },
     "metadata": {},
     "output_type": "display_data"
    },
    {
     "data": {
      "text/plain": [
       "array([[1.        , 0.19186006],\n",
       "       [0.19186006, 1.        ]])"
      ]
     },
     "metadata": {},
     "output_type": "display_data"
    },
    {
     "data": {
      "text/plain": [
       "array([[1.       , 0.9140907],\n",
       "       [0.9140907, 1.       ]])"
      ]
     },
     "metadata": {},
     "output_type": "display_data"
    },
    {
     "data": {
      "text/plain": [
       "array([[1.        , 0.46571112],\n",
       "       [0.46571112, 1.        ]])"
      ]
     },
     "metadata": {},
     "output_type": "display_data"
    },
    {
     "data": {
      "text/plain": [
       "array([[1.        , 0.38788862],\n",
       "       [0.38788862, 1.        ]])"
      ]
     },
     "metadata": {},
     "output_type": "display_data"
    }
   ],
   "source": [
    "#Calculate correlations between processes on critical path and completion times\n",
    "\n",
    "display('Correlation coefficients')\n",
    "display(np.corrcoef(data.A, data.CompletionTimes))\n",
    "display(np.corrcoef(data.C, data.CompletionTimes))\n",
    "display(np.corrcoef(data.G, data.CompletionTimes))\n",
    "display(np.corrcoef(data.J, data.CompletionTimes))"
   ]
  },
  {
   "cell_type": "markdown",
   "metadata": {},
   "source": [
    "#### Process C shows strongest correlation with completion time so choose this as covariate"
   ]
  },
  {
   "cell_type": "code",
   "execution_count": 17,
   "metadata": {},
   "outputs": [
    {
     "data": {
      "text/plain": [
       "'Covariance matrix'"
      ]
     },
     "metadata": {},
     "output_type": "display_data"
    },
    {
     "data": {
      "text/plain": [
       "array([[3.345, 3.72 ],\n",
       "       [3.72 , 4.951]])"
      ]
     },
     "metadata": {},
     "output_type": "display_data"
    }
   ],
   "source": [
    "display('Covariance matrix')\n",
    "display(np.round(np.cov(data.C, data.CompletionTimes), 3))"
   ]
  },
  {
   "cell_type": "code",
   "execution_count": 15,
   "metadata": {},
   "outputs": [
    {
     "data": {
      "text/plain": [
       "'lambda_star=1.112'"
      ]
     },
     "metadata": {},
     "output_type": "display_data"
    }
   ],
   "source": [
    "#Compute lambda_star\n",
    "lambda_star=np.cov(data.C, data.CompletionTimes)[0, 1]/np.cov(data.C, data.CompletionTimes)[0, 0]\n",
    "display('lambda_star='+str(np.round(lambda_star, 3)))"
   ]
  },
  {
   "cell_type": "markdown",
   "metadata": {},
   "source": [
    "#### Compute W for remaining  150 replications "
   ]
  },
  {
   "cell_type": "code",
   "execution_count": 9,
   "metadata": {},
   "outputs": [
    {
     "name": "stderr",
     "output_type": "stream",
     "text": [
      "/Applications/anaconda3/lib/python3.6/site-packages/ipykernel_launcher.py:3: SettingWithCopyWarning: \n",
      "A value is trying to be set on a copy of a slice from a DataFrame.\n",
      "Try using .loc[row_indexer,col_indexer] = value instead\n",
      "\n",
      "See the caveats in the documentation: http://pandas.pydata.org/pandas-docs/stable/indexing.html#indexing-view-versus-copy\n",
      "  This is separate from the ipykernel package so we can avoid doing imports until\n"
     ]
    },
    {
     "data": {
      "text/html": [
       "<div>\n",
       "<style scoped>\n",
       "    .dataframe tbody tr th:only-of-type {\n",
       "        vertical-align: middle;\n",
       "    }\n",
       "\n",
       "    .dataframe tbody tr th {\n",
       "        vertical-align: top;\n",
       "    }\n",
       "\n",
       "    .dataframe thead th {\n",
       "        text-align: right;\n",
       "    }\n",
       "</style>\n",
       "<table border=\"1\" class=\"dataframe\">\n",
       "  <thead>\n",
       "    <tr style=\"text-align: right;\">\n",
       "      <th></th>\n",
       "      <th>A</th>\n",
       "      <th>C</th>\n",
       "      <th>G</th>\n",
       "      <th>J</th>\n",
       "      <th>CompletionTimes</th>\n",
       "      <th>W</th>\n",
       "    </tr>\n",
       "  </thead>\n",
       "  <tbody>\n",
       "    <tr>\n",
       "      <th>count</th>\n",
       "      <td>150.000000</td>\n",
       "      <td>150.000000</td>\n",
       "      <td>150.000000</td>\n",
       "      <td>150.000000</td>\n",
       "      <td>150.000000</td>\n",
       "      <td>150.000000</td>\n",
       "    </tr>\n",
       "    <tr>\n",
       "      <th>mean</th>\n",
       "      <td>1.969486</td>\n",
       "      <td>5.071796</td>\n",
       "      <td>5.160275</td>\n",
       "      <td>2.105702</td>\n",
       "      <td>14.314505</td>\n",
       "      <td>14.314505</td>\n",
       "    </tr>\n",
       "    <tr>\n",
       "      <th>std</th>\n",
       "      <td>0.422610</td>\n",
       "      <td>1.577553</td>\n",
       "      <td>0.847928</td>\n",
       "      <td>0.384975</td>\n",
       "      <td>1.892026</td>\n",
       "      <td>1.030178</td>\n",
       "    </tr>\n",
       "    <tr>\n",
       "      <th>min</th>\n",
       "      <td>1.045500</td>\n",
       "      <td>1.704568</td>\n",
       "      <td>3.244754</td>\n",
       "      <td>1.042270</td>\n",
       "      <td>10.613402</td>\n",
       "      <td>12.233658</td>\n",
       "    </tr>\n",
       "    <tr>\n",
       "      <th>25%</th>\n",
       "      <td>1.628566</td>\n",
       "      <td>3.965660</td>\n",
       "      <td>4.662687</td>\n",
       "      <td>1.840351</td>\n",
       "      <td>12.883201</td>\n",
       "      <td>13.609580</td>\n",
       "    </tr>\n",
       "    <tr>\n",
       "      <th>50%</th>\n",
       "      <td>1.967996</td>\n",
       "      <td>4.989166</td>\n",
       "      <td>5.148251</td>\n",
       "      <td>2.094254</td>\n",
       "      <td>14.370261</td>\n",
       "      <td>14.328213</td>\n",
       "    </tr>\n",
       "    <tr>\n",
       "      <th>75%</th>\n",
       "      <td>2.237165</td>\n",
       "      <td>6.352303</td>\n",
       "      <td>5.783974</td>\n",
       "      <td>2.358937</td>\n",
       "      <td>15.742872</td>\n",
       "      <td>15.029403</td>\n",
       "    </tr>\n",
       "    <tr>\n",
       "      <th>max</th>\n",
       "      <td>2.933144</td>\n",
       "      <td>8.474129</td>\n",
       "      <td>6.880413</td>\n",
       "      <td>2.926643</td>\n",
       "      <td>18.752012</td>\n",
       "      <td>16.871010</td>\n",
       "    </tr>\n",
       "  </tbody>\n",
       "</table>\n",
       "</div>"
      ],
      "text/plain": [
       "                A           C           G           J  CompletionTimes  \\\n",
       "count  150.000000  150.000000  150.000000  150.000000       150.000000   \n",
       "mean     1.969486    5.071796    5.160275    2.105702        14.314505   \n",
       "std      0.422610    1.577553    0.847928    0.384975         1.892026   \n",
       "min      1.045500    1.704568    3.244754    1.042270        10.613402   \n",
       "25%      1.628566    3.965660    4.662687    1.840351        12.883201   \n",
       "50%      1.967996    4.989166    5.148251    2.094254        14.370261   \n",
       "75%      2.237165    6.352303    5.783974    2.358937        15.742872   \n",
       "max      2.933144    8.474129    6.880413    2.926643        18.752012   \n",
       "\n",
       "                W  \n",
       "count  150.000000  \n",
       "mean    14.314505  \n",
       "std      1.030178  \n",
       "min     12.233658  \n",
       "25%     13.609580  \n",
       "50%     14.328213  \n",
       "75%     15.029403  \n",
       "max     16.871010  "
      ]
     },
     "metadata": {},
     "output_type": "display_data"
    }
   ],
   "source": [
    "dataCalc=dataAll.iloc[50:, :]\n",
    "mean_C=np.mean(dataCalc[\"C\"])\n",
    "dataCalc[\"W\"]=dataCalc.loc[:,'CompletionTimes']-lambda_star*(dataCalc.loc[:,'C']-mean_C)\n",
    "display(dataCalc.describe())\n"
   ]
  },
  {
   "cell_type": "code",
   "execution_count": 13,
   "metadata": {},
   "outputs": [
    {
     "data": {
      "text/plain": [
       "'CI:[14.148 14.481]'"
      ]
     },
     "metadata": {},
     "output_type": "display_data"
    },
    {
     "data": {
      "text/plain": [
       "'sd C:1.578. sd W: 1.03'"
      ]
     },
     "metadata": {},
     "output_type": "display_data"
    }
   ],
   "source": [
    "#Compute CI\n",
    "n=len(dataCalc)\n",
    "sd_W=np.std(dataCalc[\"W\"], ddof=1)\n",
    "sd_C=np.std(dataCalc[\"C\"], ddof=1)\n",
    "CI_hw=stats.t.ppf(1-0.025, n-1)*sd_W/np.sqrt(n)\n",
    "\n",
    "CI_L=np.mean(dataCalc[\"CompletionTimes\"])-CI_hw\n",
    "CI_U=np.mean(dataCalc[\"CompletionTimes\"])+CI_hw\n",
    "CI=(CI_L, CI_U)\n",
    "display('CI:'+str(np.round(CI, 3)))\n",
    "display('sd C:'+str(np.round(sd_C, 3))+'. sd W: '+str(np.round(sd_W, 3)))"
   ]
  }
 ],
 "metadata": {
  "kernelspec": {
   "display_name": "Python 3",
   "language": "python",
   "name": "python3"
  },
  "language_info": {
   "codemirror_mode": {
    "name": "ipython",
    "version": 3
   },
   "file_extension": ".py",
   "mimetype": "text/x-python",
   "name": "python",
   "nbconvert_exporter": "python",
   "pygments_lexer": "ipython3",
   "version": "3.6.5"
  }
 },
 "nbformat": 4,
 "nbformat_minor": 2
}
