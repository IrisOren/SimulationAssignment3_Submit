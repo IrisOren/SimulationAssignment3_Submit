{
 "cells": [
  {
   "cell_type": "markdown",
   "metadata": {},
   "source": [
    "This notebook generates simulations to estimate the area of an ellipse with specified a, b parameters, and tests for differences in the area of 2 ellipses"
   ]
  },
  {
   "cell_type": "code",
   "execution_count": 2,
   "metadata": {},
   "outputs": [],
   "source": [
    "#Import libraries\n",
    "\n",
    "import numpy as np\n",
    "import matplotlib.pyplot as plt\n",
    "%matplotlib inline\n",
    "from scipy import stats"
   ]
  },
  {
   "cell_type": "code",
   "execution_count": 3,
   "metadata": {},
   "outputs": [],
   "source": [
    "#LCG function to create U(0,1) random variables\n",
    "########################\n",
    "#Inputs:\n",
    "#n - number of RVs to create\n",
    "#z0 - seed\n",
    "#m- modulus\n",
    "#a-multiplier\n",
    "#c-constant additive term\n",
    "#Outputs:\n",
    "#array of n rows containing (U,z)\n",
    "\n",
    "def LCG(n, z0, m, a, c):\n",
    "    i=0\n",
    "    u=0\n",
    "    out=np.empty([n, 2])\n",
    "    z=z0\n",
    "    while i<=n-1:\n",
    "        z=(a*z+c)%m\n",
    "        out[i]=[z/m,z]\n",
    "        i+=1\n",
    "    return out"
   ]
  },
  {
   "cell_type": "code",
   "execution_count": 4,
   "metadata": {},
   "outputs": [],
   "source": [
    "########################\n",
    "#Uniform Random number generator on a specified interval\n",
    "###############################\n",
    "#Input\n",
    "#U - a float betweek (0,1)\n",
    "#a,b - bounds of interval\n",
    "#Output:\n",
    "# x - uniform RV on (a,b)  \n",
    "def UniformAB(U, a, b):\n",
    "    x=(b-a)*U+a\n",
    "    return x"
   ]
  },
  {
   "cell_type": "code",
   "execution_count": 5,
   "metadata": {},
   "outputs": [],
   "source": [
    "#return the sequence of U, and final z value from sequence of LCG calls\n",
    "def GenU(n, z0, m, a, c):\n",
    "    LCG_1=LCG(n, z0, m, a, c)\n",
    "    U=LCG_1[:,0]\n",
    "    z=LCG_1[-1, 1]\n",
    "    return(U, z)"
   ]
  },
  {
   "cell_type": "code",
   "execution_count": 6,
   "metadata": {},
   "outputs": [],
   "source": [
    "def Area(r_x, r_y, U_x, U_y):\n",
    "#Compute the area of ellipse given radii r_A, r_B, and U(0,1)\n",
    "# Returns: area\n",
    "    x=UniformAB(U_x, -r_x, r_x)\n",
    "    y=UniformAB(U_y, -r_y, r_y)\n",
    "\n",
    "    in_ellipse=[(np.true_divide(x**2, (r_x)**2)+np.true_divide(y**2,(r_y)**2))<=1]\n",
    "    p=np.sum(in_ellipse)/np.shape(in_ellipse)[1]\n",
    "    area_ellipse=p*(4*r_x*r_y)\n",
    "    return (area_ellipse)"
   ]
  },
  {
   "cell_type": "code",
   "execution_count": 7,
   "metadata": {},
   "outputs": [],
   "source": [
    "#Initialise variables for ellipse\n",
    "\n",
    "a=833\n",
    "m=4096\n",
    "c=797\n",
    "z0=2351\n",
    "n=50\n",
    "\n",
    "r_x=4\n",
    "r_y=6\n",
    "\n",
    "reps=100 #Total Replication number\n"
   ]
  },
  {
   "cell_type": "code",
   "execution_count": 8,
   "metadata": {},
   "outputs": [],
   "source": [
    "#Run reps replications and calculate \n",
    "\n",
    "z=z0\n",
    "A_ellipse=np.empty((reps,1))\n",
    "for rep in range(reps):\n",
    "    LCG_1=GenU(n, z, m, a, c)\n",
    "    U_x=LCG_1[0]\n",
    "    z=LCG_1[1]\n",
    "    U_y=GenU(n, z, m, a, c)\n",
    "    U_y=LCG_1[0]\n",
    "    z=LCG_1[1]\n",
    "    U_x_inv=(1-U_x)\n",
    "    U_y_inv=(1-U_y)\n",
    "    \n",
    "    A_1=Area(r_x, r_y, U_x, U_y)\n",
    "    A_2=Area(r_x, r_y, U_x_inv, U_y_inv)\n",
    "\n",
    "    A_ellipse[rep]=(A_1+A_2)/2\n"
   ]
  },
  {
   "cell_type": "code",
   "execution_count": 11,
   "metadata": {},
   "outputs": [
    {
     "data": {
      "text/plain": [
       "'mean area: 67.45'"
      ]
     },
     "metadata": {},
     "output_type": "display_data"
    },
    {
     "data": {
      "text/plain": [
       "'std area: 7.094'"
      ]
     },
     "metadata": {},
     "output_type": "display_data"
    },
    {
     "data": {
      "text/plain": [
       "'CI=(66.042, 68.857)'"
      ]
     },
     "metadata": {},
     "output_type": "display_data"
    }
   ],
   "source": [
    "#Compute confidence interval\n",
    "A_bar_ellipse=np.sum(A_ellipse)/len(A_ellipse)\n",
    "A_s_ellipse=np.sqrt(np.divide(np.sum((A_ellipse-A_bar_ellipse)**2), (len(A_ellipse)-1)))\n",
    "\n",
    "alpha=0.05\n",
    "\n",
    "CI_hw=(stats.t.ppf(1-alpha/2, len(A_ellipse)-1)*A_s_ellipse)/np.sqrt(len(A_ellipse))\n",
    "display('mean area: '+str(np.round(A_bar_ellipse, 3)))\n",
    "display('std area: '+str(np.round(A_s_ellipse, 3)))\n",
    "display('CI=('+ str(np.round(A_bar_ellipse-CI_hw, 3))+', '+str(np.round(A_bar_ellipse+CI_hw, 3))+')')\n"
   ]
  },
  {
   "cell_type": "markdown",
   "metadata": {},
   "source": [
    "### (b) Area of circle"
   ]
  },
  {
   "cell_type": "code",
   "execution_count": 12,
   "metadata": {},
   "outputs": [],
   "source": [
    "#Initialise variables for circle\n",
    "\n",
    "a=833\n",
    "m=4096\n",
    "c=797\n",
    "z0=2351\n",
    "n=50\n",
    "\n",
    "r_x=5\n",
    "r_y=5\n",
    "\n",
    "reps=100 #Total Replication number\n"
   ]
  },
  {
   "cell_type": "code",
   "execution_count": 13,
   "metadata": {},
   "outputs": [],
   "source": [
    "#Run reps replications and calculate \n",
    " \n",
    "\n",
    "z=z0\n",
    "A_circle=np.empty((reps,1))\n",
    "for rep in range(reps):\n",
    "    LCG_1=GenU(n, z, m, a, c)\n",
    "    U_x=LCG_1[0]\n",
    "    z=LCG_1[1]\n",
    "    U_y=GenU(n, z, m, a, c)\n",
    "    U_y=LCG_1[0]\n",
    "    z=LCG_1[1]\n",
    "    U_x_inv=(1-U_x)\n",
    "    U_y_inv=(1-U_y)\n",
    "    \n",
    "    A_1=Area(r_x, r_y, U_x, U_y)\n",
    "    A_2=Area(r_x, r_y, U_x_inv, U_y_inv)\n",
    "\n",
    "    A_circle[rep]=(A_1+A_2)/2\n"
   ]
  },
  {
   "cell_type": "code",
   "execution_count": 14,
   "metadata": {},
   "outputs": [
    {
     "data": {
      "text/plain": [
       "'CI=(68.794, 71.726)'"
      ]
     },
     "metadata": {},
     "output_type": "display_data"
    }
   ],
   "source": [
    "#Compute confidence interval for area of circle\n",
    "A_bar_circle=np.sum(A_circle)/len(A_circle)\n",
    "A_s_circle=np.sqrt(np.divide(np.sum((A_circle-A_bar_circle)**2), (len(A_circle)-1)))\n",
    "\n",
    "alpha=0.05\n",
    "\n",
    "CI_hw=(stats.t.ppf(1-alpha/2, len(A_circle)-1)*A_s_circle)/np.sqrt(len(A_circle))\n",
    "\n",
    "display('CI=('+ str(np.round(A_bar_circle-CI_hw, 3))+', '+str(np.round(A_bar_circle+CI_hw, 3))+')')\n"
   ]
  },
  {
   "cell_type": "markdown",
   "metadata": {},
   "source": [
    "### Compute difference between ellipse and circle and confidence interval"
   ]
  },
  {
   "cell_type": "code",
   "execution_count": 15,
   "metadata": {},
   "outputs": [
    {
     "data": {
      "text/plain": [
       "'CI=(-2.869, -2.752)'"
      ]
     },
     "metadata": {},
     "output_type": "display_data"
    }
   ],
   "source": [
    "D=A_ellipse-A_circle\n",
    "D_bar=np.mean(D)\n",
    "D_s=np.std(D,  ddof=1)\n",
    "D_hw=(stats.t.ppf(1-alpha/2, len(D)-1)*D_s/np.sqrt(len(D)))\n",
    "\n",
    "display('CI=('+ str(np.round(D_bar-D_hw, 3))+', '+str(np.round(D_bar+D_hw, 3))+')')\n"
   ]
  }
 ],
 "metadata": {
  "kernelspec": {
   "display_name": "Python 3",
   "language": "python",
   "name": "python3"
  },
  "language_info": {
   "codemirror_mode": {
    "name": "ipython",
    "version": 3
   },
   "file_extension": ".py",
   "mimetype": "text/x-python",
   "name": "python",
   "nbconvert_exporter": "python",
   "pygments_lexer": "ipython3",
   "version": "3.6.5"
  }
 },
 "nbformat": 4,
 "nbformat_minor": 2
}
